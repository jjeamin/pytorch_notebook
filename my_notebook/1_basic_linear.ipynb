{
 "cells": [
  {
   "cell_type": "markdown",
   "metadata": {},
   "source": [
    "# Linear Regression\n",
    "- 연속적인 시계열 값을 예\n",
    "- 최종 목표는 함수를 만드는 것이다.\n",
    "- Loss = MSE(mean square)\n",
    "- outputs : [15,1]\n",
    "- target : [15,1]"
   ]
  },
  {
   "cell_type": "code",
   "execution_count": 1,
   "metadata": {},
   "outputs": [],
   "source": [
    "import torch\n",
    "import torch.nn as nn\n",
    "import numpy as np\n",
    "import matplotlib.pyplot as plt"
   ]
  },
  {
   "cell_type": "code",
   "execution_count": 7,
   "metadata": {},
   "outputs": [],
   "source": [
    "input_size = 1\n",
    "output_size = 1\n",
    "epochs = 60\n",
    "lr = 0.001"
   ]
  },
  {
   "cell_type": "code",
   "execution_count": 5,
   "metadata": {},
   "outputs": [
    {
     "data": {
      "image/png": "[encoded data removed]",
      "text/plain": [
       "<Figure size 432x288 with 1 Axes>"
      ]
     },
     "metadata": {
      "needs_background": "light"
     },
     "output_type": "display_data"
    }
   ],
   "source": [
    "x_train = np.array([[3.3], [4.4], [5.5], [6.71], [6.93], [4.168], \n",
    "                    [9.779], [6.182], [7.59], [2.167], [7.042], \n",
    "                    [10.791], [5.313], [7.997], [3.1]], dtype=np.float32)\n",
    "\n",
    "y_train = np.array([[1.7], [2.76], [2.09], [3.19], [1.694], [1.573], \n",
    "                    [3.366], [2.596], [2.53], [1.221], [2.827], \n",
    "                    [3.465], [1.65], [2.904], [1.3]], dtype=np.float32)\n",
    "\n",
    "plt.plot(x_train, y_train, 'ro', label='Original data')\n",
    "plt.legend()\n",
    "plt.show()"
   ]
  },
  {
   "cell_type": "code",
   "execution_count": 6,
   "metadata": {},
   "outputs": [],
   "source": [
    "model = nn.Linear(input_size, output_size)"
   ]
  },
  {
   "cell_type": "code",
   "execution_count": 8,
   "metadata": {},
   "outputs": [],
   "source": [
    "criterion = nn.MSELoss()\n",
    "optimizer = torch.optim.SGD(model.parameters(), lr=lr)"
   ]
  },
  {
   "cell_type": "code",
   "execution_count": 20,
   "metadata": {},
   "outputs": [
    {
     "name": "stdout",
     "output_type": "stream",
     "text": [
      "torch.Size([15, 1])\n",
      "torch.Size([15, 1])\n",
      "torch.Size([15, 1])\n",
      "torch.Size([15, 1])\n",
      "torch.Size([15, 1])\n",
      "torch.Size([15, 1])\n",
      "torch.Size([15, 1])\n",
      "torch.Size([15, 1])\n",
      "torch.Size([15, 1])\n",
      "torch.Size([15, 1])\n",
      "Epoch [5/60], Loss: 0.3568\n",
      "torch.Size([15, 1])\n",
      "torch.Size([15, 1])\n",
      "torch.Size([15, 1])\n",
      "torch.Size([15, 1])\n",
      "torch.Size([15, 1])\n",
      "torch.Size([15, 1])\n",
      "torch.Size([15, 1])\n",
      "torch.Size([15, 1])\n",
      "torch.Size([15, 1])\n",
      "torch.Size([15, 1])\n",
      "Epoch [10/60], Loss: 0.3562\n",
      "torch.Size([15, 1])\n",
      "torch.Size([15, 1])\n",
      "torch.Size([15, 1])\n",
      "torch.Size([15, 1])\n",
      "torch.Size([15, 1])\n",
      "torch.Size([15, 1])\n",
      "torch.Size([15, 1])\n",
      "torch.Size([15, 1])\n",
      "torch.Size([15, 1])\n",
      "torch.Size([15, 1])\n",
      "Epoch [15/60], Loss: 0.3557\n",
      "torch.Size([15, 1])\n",
      "torch.Size([15, 1])\n",
      "torch.Size([15, 1])\n",
      "torch.Size([15, 1])\n",
      "torch.Size([15, 1])\n",
      "torch.Size([15, 1])\n",
      "torch.Size([15, 1])\n",
      "torch.Size([15, 1])\n",
      "torch.Size([15, 1])\n",
      "torch.Size([15, 1])\n",
      "Epoch [20/60], Loss: 0.3552\n",
      "torch.Size([15, 1])\n",
      "torch.Size([15, 1])\n",
      "torch.Size([15, 1])\n",
      "torch.Size([15, 1])\n",
      "torch.Size([15, 1])\n",
      "torch.Size([15, 1])\n",
      "torch.Size([15, 1])\n",
      "torch.Size([15, 1])\n",
      "torch.Size([15, 1])\n",
      "torch.Size([15, 1])\n",
      "Epoch [25/60], Loss: 0.3548\n",
      "torch.Size([15, 1])\n",
      "torch.Size([15, 1])\n",
      "torch.Size([15, 1])\n",
      "torch.Size([15, 1])\n",
      "torch.Size([15, 1])\n",
      "torch.Size([15, 1])\n",
      "torch.Size([15, 1])\n",
      "torch.Size([15, 1])\n",
      "torch.Size([15, 1])\n",
      "torch.Size([15, 1])\n",
      "Epoch [30/60], Loss: 0.3543\n",
      "torch.Size([15, 1])\n",
      "torch.Size([15, 1])\n",
      "torch.Size([15, 1])\n",
      "torch.Size([15, 1])\n",
      "torch.Size([15, 1])\n",
      "torch.Size([15, 1])\n",
      "torch.Size([15, 1])\n",
      "torch.Size([15, 1])\n",
      "torch.Size([15, 1])\n",
      "torch.Size([15, 1])\n",
      "Epoch [35/60], Loss: 0.3538\n",
      "torch.Size([15, 1])\n",
      "torch.Size([15, 1])\n",
      "torch.Size([15, 1])\n",
      "torch.Size([15, 1])\n",
      "torch.Size([15, 1])\n",
      "torch.Size([15, 1])\n",
      "torch.Size([15, 1])\n",
      "torch.Size([15, 1])\n",
      "torch.Size([15, 1])\n",
      "torch.Size([15, 1])\n",
      "Epoch [40/60], Loss: 0.3533\n",
      "torch.Size([15, 1])\n",
      "torch.Size([15, 1])\n",
      "torch.Size([15, 1])\n",
      "torch.Size([15, 1])\n",
      "torch.Size([15, 1])\n",
      "torch.Size([15, 1])\n",
      "torch.Size([15, 1])\n",
      "torch.Size([15, 1])\n",
      "torch.Size([15, 1])\n",
      "torch.Size([15, 1])\n",
      "Epoch [45/60], Loss: 0.3529\n",
      "torch.Size([15, 1])\n",
      "torch.Size([15, 1])\n",
      "torch.Size([15, 1])\n",
      "torch.Size([15, 1])\n",
      "torch.Size([15, 1])\n",
      "torch.Size([15, 1])\n",
      "torch.Size([15, 1])\n",
      "torch.Size([15, 1])\n",
      "torch.Size([15, 1])\n",
      "torch.Size([15, 1])\n",
      "Epoch [50/60], Loss: 0.3524\n",
      "torch.Size([15, 1])\n",
      "torch.Size([15, 1])\n",
      "torch.Size([15, 1])\n",
      "torch.Size([15, 1])\n",
      "torch.Size([15, 1])\n",
      "torch.Size([15, 1])\n",
      "torch.Size([15, 1])\n",
      "torch.Size([15, 1])\n",
      "torch.Size([15, 1])\n",
      "torch.Size([15, 1])\n",
      "Epoch [55/60], Loss: 0.3519\n",
      "torch.Size([15, 1])\n",
      "torch.Size([15, 1])\n",
      "torch.Size([15, 1])\n",
      "torch.Size([15, 1])\n",
      "torch.Size([15, 1])\n",
      "torch.Size([15, 1])\n",
      "torch.Size([15, 1])\n",
      "torch.Size([15, 1])\n",
      "torch.Size([15, 1])\n",
      "torch.Size([15, 1])\n",
      "Epoch [60/60], Loss: 0.3514\n"
     ]
    }
   ],
   "source": [
    "for epoch in range(epochs):\n",
    "    inputs = torch.from_numpy(x_train)\n",
    "    targets = torch.from_numpy(y_train)\n",
    "    \n",
    "    outputs = model(inputs)\n",
    "    loss = criterion(outputs, targets)\n",
    "    \n",
    "    optimizer.zero_grad()\n",
    "    loss.backward()\n",
    "    optimizer.step()\n",
    "    \n",
    "    if (epoch+1) % 5 == 0:\n",
    "         print ('Epoch [{}/{}], Loss: {:.4f}'.format(epoch+1, epochs, loss.item()))"
   ]
  },
  {
   "cell_type": "code",
   "execution_count": 12,
   "metadata": {},
   "outputs": [],
   "source": [
    "# .detech() : 현재 계산 기록을 분리\n",
    "predicted = model(torch.from_numpy(x_train)).detach().numpy()"
   ]
  },
  {
   "cell_type": "code",
   "execution_count": 18,
   "metadata": {},
   "outputs": [
    {
     "data": {
      "image/png": "[encoded data removed]",
      "text/plain": [
       "<Figure size 432x288 with 1 Axes>"
      ]
     },
     "metadata": {
      "needs_background": "light"
     },
     "output_type": "display_data"
    }
   ],
   "source": [
    "plt.plot(x_train, y_train, 'ro', label='Original data')\n",
    "plt.plot(x_train, predicted, label='Fitted line')\n",
    "plt.legend()\n",
    "plt.show()"
   ]
  },
  {
   "cell_type": "markdown",
   "metadata": {},
   "source": [
    "## save"
   ]
  },
  {
   "cell_type": "code",
   "execution_count": 16,
   "metadata": {},
   "outputs": [],
   "source": [
    "torch.save(model.state_dict(), 'linear_model.ckpt')"
   ]
  }
 ],
 "metadata": {
  "kernelspec": {
   "display_name": "pytorch",
   "language": "python",
   "name": "pytorch"
  },
  "language_info": {
   "codemirror_mode": {
    "name": "ipython",
    "version": 3
   },
   "file_extension": ".py",
   "mimetype": "text/x-python",
   "name": "python",
   "nbconvert_exporter": "python",
   "pygments_lexer": "ipython3",
   "version": "3.6.8"
  }
 },
 "nbformat": 4,
 "nbformat_minor": 2
}
